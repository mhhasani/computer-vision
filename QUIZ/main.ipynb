{
 "cells": [
  {
   "cell_type": "code",
   "execution_count": null,
   "metadata": {},
   "outputs": [],
   "source": [
    "from tensorflow import keras\n",
    "from tensorflow.keras import layers\n",
    "from tensorflow.keras.datasets import cifar10\n",
    "import matplotlib.pyplot as plt\n",
    "\n",
    "# Load CIFAR-10 dataset\n",
    "(x_train, y_train), (x_test, y_test) = cifar10.load_data()\n",
    "\n",
    "# Reshape and normalize the input data\n",
    "x_train = x_train.reshape((50000, 32 * 32 * 3))\n",
    "x_train = x_train.astype('float32') / 255.0\n",
    "\n",
    "x_test= x_test.reshape((10000, 32 * 32 * 3))\n",
    "x_test = x_test.astype('float32') / 255.0"
   ]
  },
  {
   "cell_type": "code",
   "execution_count": null,
   "metadata": {},
   "outputs": [],
   "source": [
    "# List to store the accuracy history of each model\n",
    "accuracy_history = []\n",
    "\n",
    "# MODEL 1\n",
    "model1 = keras.models.Sequential([\n",
    "    layers.Input(shape=(3072,)),\n",
    "    layers.Dense(1000, activation='relu'),\n",
    "    layers.Dense(200, activation='relu'),\n",
    "    layers.Dense(50, activation='relu'),\n",
    "    layers.Dense(10, activation='softmax')\n",
    "])\n",
    "model1.summary()\n",
    "\n",
    "model1.compile(optimizer=\"rmsprop\",\n",
    "               loss=\"sparse_categorical_crossentropy\",\n",
    "               metrics=[\"accuracy\"])\n",
    "\n",
    "# Train the model\n",
    "hist = model1.fit(x_train, y_train, epochs=50, validation_split=0.2, batch_size=128)"
   ]
  },
  {
   "cell_type": "code",
   "execution_count": null,
   "metadata": {},
   "outputs": [],
   "source": [
    "# Plot the training and validation loss\n",
    "plt.plot(range(50), hist.history['loss'])\n",
    "plt.plot(range(50), hist.history['val_loss'])\n",
    "plt.title('Model 1: Loss')\n",
    "plt.legend(['loss', 'val_loss'])\n",
    "plt.show()\n",
    "\n",
    "# Evaluate the model on test data\n",
    "test_loss, test_acc = model1.evaluate(x_test, y_test)\n",
    "print(f\"Model 1 test_acc: {test_acc}\")\n",
    "\n",
    "# Append the accuracy history to the final list\n",
    "accuracy_history.append(hist.history['accuracy'])\n",
    "\n"
   ]
  },
  {
   "cell_type": "code",
   "execution_count": null,
   "metadata": {},
   "outputs": [],
   "source": [
    "# MODEL 2\n",
    "model2 = keras.models.Sequential([\n",
    "    layers.Input(shape=(3072,)),\n",
    "    layers.Dense(1000, activation='relu'),\n",
    "    layers.Dense(200, activation='relu'),\n",
    "    layers.Dense(50, activation='relu'),\n",
    "    layers.Dense(10, activation='softmax')\n",
    "])\n",
    "model2.summary()\n",
    "\n",
    "model2.compile(optimizer=\"SGD\",\n",
    "               loss=\"sparse_categorical_crossentropy\",\n",
    "               metrics=[\"accuracy\"])\n",
    "\n",
    "# Train the model\n",
    "hist = model2.fit(x_train, y_train, epochs=50, validation_split=0.2, batch_size=128)\n"
   ]
  },
  {
   "cell_type": "code",
   "execution_count": null,
   "metadata": {},
   "outputs": [],
   "source": [
    "# Plot the training and validation loss\n",
    "plt.plot(range(50), hist.history['loss'])\n",
    "plt.plot(range(50), hist.history['val_loss'])\n",
    "plt.title('Model 2: Loss')\n",
    "plt.legend(['loss', 'val_loss'])\n",
    "plt.show()\n",
    "\n",
    "# Evaluate the model on test data\n",
    "test_loss, test_acc = model2.evaluate(x_test, y_test)\n",
    "print(f\"Model 2 test_acc: {test_acc}\")\n",
    "\n",
    "# Append the accuracy history to the final list\n",
    "accuracy_history.append(hist.history['accuracy'])\n"
   ]
  },
  {
   "cell_type": "code",
   "execution_count": null,
   "metadata": {},
   "outputs": [],
   "source": [
    "# MODEL 3\n",
    "model3 = keras.models.Sequential([\n",
    "    layers.Input(shape=(3072,)),\n",
    "    layers.Dense(1000, activation='relu'),\n",
    "    layers.Dense(200, activation='relu'),\n",
    "    layers.Dense(50, activation='relu'),\n",
    "    layers.Dense(10, activation='softmax')\n",
    "])\n",
    "model3.summary()\n",
    "\n",
    "model3.compile(optimizer=\"Adam\",\n",
    "               loss=\"sparse_categorical_crossentropy\",\n",
    "               metrics=[\"accuracy\"])\n",
    "\n",
    "# Train the model\n",
    "hist = model3.fit(x_train, y_train, epochs=50, validation_split=0.2, batch_size=128)\n"
   ]
  },
  {
   "cell_type": "code",
   "execution_count": null,
   "metadata": {},
   "outputs": [],
   "source": [
    "# Plot the training and validation loss\n",
    "plt.plot(range(50), hist.history['loss'])\n",
    "plt.plot(range(50), hist.history['val_loss'])\n",
    "plt.title('Model 3: Loss')\n",
    "plt.legend(['loss', 'val_loss'])\n",
    "plt.show()\n",
    "\n",
    "# Evaluate the model on test data\n",
    "test_loss, test_acc = model3.evaluate(x_test, y_test)\n",
    "print(f\"Model 3 test_acc: {test_acc}\")\n",
    "\n",
    "# Append the accuracy history to the final list\n",
    "accuracy_history.append(hist.history['accuracy'])\n",
    "\n"
   ]
  },
  {
   "cell_type": "code",
   "execution_count": null,
   "metadata": {},
   "outputs": [],
   "source": [
    "# MODEL 4\n",
    "model4 = keras.models.Sequential([\n",
    "    layers.Input(shape=(3072,)),\n",
    "    layers.Dense(1000, activation='relu'),\n",
    "    layers.Dense(200, activation='relu'),\n",
    "    layers.Dense(10, activation='softmax')\n",
    "])\n",
    "model4.summary()\n",
    "\n",
    "model4.compile(optimizer=\"Adam\",\n",
    "               loss=\"sparse_categorical_crossentropy\",\n",
    "               metrics=[\"accuracy\"])\n",
    "\n",
    "# Train the model\n",
    "hist = model4.fit(x_train, y_train, epochs=50, validation_split=0.2, batch_size=128)\n"
   ]
  },
  {
   "cell_type": "code",
   "execution_count": null,
   "metadata": {},
   "outputs": [],
   "source": [
    "# Plot the training and validation loss\n",
    "plt.plot(range(50), hist.history['loss'])\n",
    "plt.plot(range(50), hist.history['val_loss'])\n",
    "plt.title('Model 4: Loss')\n",
    "plt.legend(['loss', 'val_loss'])\n",
    "plt.show()\n",
    "\n",
    "# Evaluate the model on test data\n",
    "test_loss, test_acc = model4.evaluate(x_test, y_test)\n",
    "print(f\"Model 4 test_acc: {test_acc}\")\n",
    "\n",
    "# Append the accuracy history to the final list\n",
    "accuracy_history.append(hist.history['accuracy'])\n"
   ]
  },
  {
   "cell_type": "code",
   "execution_count": null,
   "metadata": {},
   "outputs": [],
   "source": [
    "# Plot the accuracy history of all models\n",
    "plt.plot(range(50), accuracy_history[0])\n",
    "plt.plot(range(50), accuracy_history[1])\n",
    "plt.plot(range(50), accuracy_history[2])\n",
    "plt.plot(range(50), accuracy_history[3])\n",
    "plt.title('Accuracy Comparison')\n",
    "plt.legend(['accuracy1', 'accuracy2', 'accuracy3', 'accuracy4'])\n",
    "plt.show()"
   ]
  }
 ],
 "metadata": {
  "language_info": {
   "name": "python"
  },
  "orig_nbformat": 4
 },
 "nbformat": 4,
 "nbformat_minor": 2
}
