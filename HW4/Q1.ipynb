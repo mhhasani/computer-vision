{
 "cells": [
  {
   "cell_type": "code",
   "execution_count": 5,
   "metadata": {},
   "outputs": [
    {
     "data": {
      "image/png": "[encoded data removed]",
      "text/plain": [
       "<Figure size 640x480 with 1 Axes>"
      ]
     },
     "metadata": {},
     "output_type": "display_data"
    },
    {
     "name": "stdout",
     "output_type": "stream",
     "text": [
      "Mean: 8.12\n",
      "Median: 9.0\n",
      "Mode: 4\n",
      "Variance: 16.7456\n"
     ]
    }
   ],
   "source": [
    "import numpy as np\n",
    "import matplotlib.pyplot as plt\n",
    "\n",
    "matrix = np.array([[12, 13, 5, 4, 9],\n",
    "                   [11, 7, 10, 10, 1],\n",
    "                   [8, 11, 3, 2, 2],\n",
    "                   [9, 12, 4, 4, 4],\n",
    "                   [10, 11, 12, 15, 14]])\n",
    "\n",
    "# Flatten the matrix into a 1D array\n",
    "flat_matrix = matrix.flatten()\n",
    "\n",
    "# Calculate the histogram using NumPy\n",
    "hist, bins = np.histogram(flat_matrix, bins=16, range=[0, 16])\n",
    "\n",
    "# Plot the histogram\n",
    "plt.hist(flat_matrix, bins=16, range=[0, 16])\n",
    "plt.show()\n",
    "\n",
    "# Print the statistics\n",
    "print(\"Mean:\", np.mean(flat_matrix))\n",
    "print(\"Median:\", np.median(flat_matrix))\n",
    "print(\"Mode:\", np.argmax(hist))\n",
    "print(\"Variance:\", np.mean((flat_matrix - np.mean(flat_matrix)) ** 2))"
   ]
  },
  {
   "cell_type": "code",
   "execution_count": 12,
   "metadata": {},
   "outputs": [
    {
     "name": "stdout",
     "output_type": "stream",
     "text": [
      "Threshold: 9.5 Otsu Value: 0.5643236074270557\n",
      "Threshold: 11.5 Otsu Value: 1.1361161524500907\n",
      "Best Threshold:  11.5\n",
      "Best Otsu Value:  1.1361161524500907\n"
     ]
    }
   ],
   "source": [
    "import numpy as np\n",
    "\n",
    "# Define the histogram values\n",
    "hist = np.array([[12, 13, 5, 4, 9],\n",
    "                 [11, 7, 10, 10, 1],\n",
    "                 [8, 11, 3, 2, 2],\n",
    "                 [9, 12, 4, 4, 4],\n",
    "                 [10, 11, 12, 15, 14]])\n",
    "\n",
    "# Define the threshold levels\n",
    "thresholds = [9.5, 11.5]\n",
    "\n",
    "best_threshold = None\n",
    "best_otsu = 0\n",
    "\n",
    "# Calculate Otsu's algorithm for each threshold level\n",
    "for threshold in thresholds:\n",
    "    # Split the histogram based on the threshold\n",
    "    hist_below = hist[hist <= threshold]\n",
    "    hist_above = hist[hist > threshold]\n",
    "\n",
    "    # Calculate weights\n",
    "    w_below = np.sum(hist_below) / np.sum(hist)\n",
    "    w_above = np.sum(hist_above) / np.sum(hist)\n",
    "\n",
    "    # Calculate variances\n",
    "    if len(hist_below) > 0:\n",
    "        variance_below = np.sum((hist_below - np.mean(hist_below))**2) / np.sum(hist_below)\n",
    "    else:\n",
    "        variance_below = 0\n",
    "\n",
    "    if len(hist_above) > 0:\n",
    "        variance_above = np.sum((hist_above - np.mean(hist_above))**2) / np.sum(hist_above)\n",
    "    else:\n",
    "        variance_above = 0\n",
    "\n",
    "    # Calculate Otsu's value\n",
    "    otsu = w_below * variance_below + w_above * variance_above\n",
    "    print(\"Threshold:\", threshold, \"Otsu Value:\", otsu)\n",
    "\n",
    "    # Check if the current threshold is better\n",
    "    if otsu > best_otsu:\n",
    "        best_otsu = otsu\n",
    "        best_threshold = threshold\n",
    "\n",
    "# Print the results\n",
    "print(\"Best Threshold: \", best_threshold)\n",
    "print(\"Best Otsu Value: \", best_otsu)\n"
   ]
  }
 ],
 "metadata": {
  "kernelspec": {
   "display_name": "base",
   "language": "python",
   "name": "python3"
  },
  "language_info": {
   "codemirror_mode": {
    "name": "ipython",
    "version": 3
   },
   "file_extension": ".py",
   "mimetype": "text/x-python",
   "name": "python",
   "nbconvert_exporter": "python",
   "pygments_lexer": "ipython3",
   "version": "3.8.7"
  },
  "orig_nbformat": 4,
  "vscode": {
   "interpreter": {
    "hash": "c9003998f1fb176722ebd57bd88210d524962e4074509ed2b15ccb2a8404ecfd"
   }
  }
 },
 "nbformat": 4,
 "nbformat_minor": 2
}
