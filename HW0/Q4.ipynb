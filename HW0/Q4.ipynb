{
 "cells": [
  {
   "cell_type": "markdown",
   "metadata": {},
   "source": [
    "# Q4"
   ]
  },
  {
   "attachments": {},
   "cell_type": "markdown",
   "metadata": {},
   "source": [
    "## Part A\n",
    "\n",
    "This code performs matrix operations using NumPy library to solve a linear algebra problem.\n",
    "\n",
    "The code starts by defining three matrices, A, B, and AT, where AT is the transpose of A.\n",
    "\n",
    "Next, the code calculates AAT (A multiplied by its transpose), then uses the pinv() function from NumPy's linear algebra module to calculate the pseudo-inverse of AAT.\n",
    "\n",
    "Afterward, the code calculates ATB (the product of the transpose of A and B) and multiplies it with the pseudo-inverse of AAT to get AATinvATB.\n",
    "\n",
    "Finally, the code adds A to the result of the previous calculation to obtain AATinvATBA.\n",
    "\n",
    "The resulting matrix AATinvATBA is printed out.\n",
    "\n",
    "In summary, this code solves a linear system by multiplying, transposing, inverting, and adding matrices using NumPy."
   ]
  },
  {
   "cell_type": "code",
   "execution_count": 3,
   "metadata": {},
   "outputs": [
    {
     "name": "stdout",
     "output_type": "stream",
     "text": [
      "[[2.92592593 3.92592593 4.92592593]\n",
      " [4.55555556 5.55555556 6.55555556]\n",
      " [6.18518519 7.18518519 8.18518519]]\n"
     ]
    }
   ],
   "source": [
    "\"\"\"\n",
    "Please define the mentioned matrices and the operations\n",
    "\n",
    "consider the bellow links:\n",
    "https://numpy.org/doc/stable/reference/generated/numpy.transpose.html\n",
    "\n",
    "https://numpy.org/doc/stable/reference/generated/numpy.dot.html\n",
    "\"\"\"\n",
    "\n",
    "import numpy as np\n",
    "\n",
    "# define the matrices\n",
    "A = np.array([[1, 2, 3], [4, 5, 6], [7, 8, 9]])\n",
    "B = np.array([[1], [-1], [1]])\n",
    "AT = np.transpose(A)   \n",
    "\n",
    "# (A * AT)^-1 * AT * B + A\n",
    "\n",
    "AAT = np.dot(A,AT)\n",
    "AATinv = np.linalg.pinv(AAT)\n",
    "ATB = np.dot(AT,B)\n",
    "AATinvATB = np.dot(AATinv,ATB)\n",
    "AATinvATBA = np.add(AATinvATB,A)\n",
    "print(AATinvATBA)"
   ]
  },
  {
   "cell_type": "markdown",
   "metadata": {},
   "source": [
    "## Part B"
   ]
  },
  {
   "cell_type": "code",
   "execution_count": 4,
   "metadata": {},
   "outputs": [],
   "source": [
    "def window_sliding(A, B):\n",
    "\n",
    "  \"\"\"\n",
    "  In this function you should implement the sliding window method\n",
    "\n",
    "  Arguments:\n",
    "    inputs:\n",
    "      A: a matrix of 3*3 order for treating as the window\n",
    "      B: a matrix of 5*5 order for treating as the input matrix\n",
    "    outputs:\n",
    "      res: resulting matrix of the sliding window \n",
    "  \"\"\"\n",
    "\n",
    "  # your code here\n",
    "  res = np.zeros((3,3))\n",
    "  for i in range(3):\n",
    "    for j in range(3):\n",
    "      res[i][j] = np.sum(np.multiply(A,B[i:i+3,j:j+3]))\n",
    "  return res"
   ]
  },
  {
   "cell_type": "code",
   "execution_count": 5,
   "metadata": {},
   "outputs": [
    {
     "name": "stdout",
     "output_type": "stream",
     "text": [
      "[[-7. -5. -7.]\n",
      " [-5. -2. -5.]\n",
      " [-7. -5. -7.]]\n"
     ]
    }
   ],
   "source": [
    "A = np.array([[1, 1, 1], \n",
    "              [1, -9, 1], \n",
    "              [1, 1, 1]])\n",
    "B = np.array([[1, 1, 1, 1, 1],\n",
    "              [1, 2, 2, 2, 1], \n",
    "              [1, 2, 2, 2, 1],\n",
    "              [1, 2, 2, 2, 1],\n",
    "              [1, 1, 1, 1, 1]])\n",
    "              \n",
    "print(window_sliding(A, B))"
   ]
  }
 ],
 "metadata": {
  "kernelspec": {
   "display_name": "Python 3",
   "language": "python",
   "name": "python3"
  },
  "language_info": {
   "codemirror_mode": {
    "name": "ipython",
    "version": 3
   },
   "file_extension": ".py",
   "mimetype": "text/x-python",
   "name": "python",
   "nbconvert_exporter": "python",
   "pygments_lexer": "ipython3",
   "version": "3.10.6"
  },
  "orig_nbformat": 4,
  "vscode": {
   "interpreter": {
    "hash": "916dbcbb3f70747c44a77c7bcd40155683ae19c65e1c03b4aa3499c5328201f1"
   }
  }
 },
 "nbformat": 4,
 "nbformat_minor": 2
}
