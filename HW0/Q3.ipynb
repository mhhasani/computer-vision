{
  "cells": [
    {
      "attachments": {},
      "cell_type": "markdown",
      "metadata": {
        "id": "P9PoDHBl3QKv"
      },
      "source": [
        "# Q3\n",
        "*Work with Numpy*<br>\n",
        "In this notebook you're going to work with the numpy library to solve the problems<br>\n",
        "Please follow the instructions and hints provided for each cell"
      ]
    },
    {
      "attachments": {},
      "cell_type": "markdown",
      "metadata": {},
      "source": [
        "## Part A"
      ]
    },
    {
      "cell_type": "code",
      "execution_count": 24,
      "metadata": {
        "id": "1ZbZ5H1j5Zhw"
      },
      "outputs": [],
      "source": [
        "import numpy as np"
      ]
    },
    {
      "attachments": {},
      "cell_type": "markdown",
      "metadata": {},
      "source": [
        "This code defines a function called `create_matrix` which takes an input `n`. The function generates a n by n matrix of random integers between `n` and `n+100` using the NumPy `randint` function. Finally, the function returns the generated matrix as output."
      ]
    },
    {
      "cell_type": "code",
      "execution_count": 25,
      "metadata": {
        "id": "5nvuXUyB2aLJ"
      },
      "outputs": [],
      "source": [
        "def create_matrix(n):\n",
        "  matrix = np.random.randint(n, n+100, size=(n,n))\n",
        "  return matrix"
      ]
    },
    {
      "cell_type": "code",
      "execution_count": 26,
      "metadata": {
        "id": "1PiKjLsl6KhD"
      },
      "outputs": [
        {
          "name": "stdout",
          "output_type": "stream",
          "text": [
            "[[ 84  48  61  11  61]\n",
            " [ 30  99  51  98  53]\n",
            " [ 89  57  72  17  47]\n",
            " [ 52  28  65 100  69]\n",
            " [ 15 104  64  31  32]]\n"
          ]
        }
      ],
      "source": [
        "\"\"\"\n",
        "In this cell you should get the input n and create the matrix by calling the function\n",
        "Then print the matrix\n",
        "\"\"\"\n",
        "n = int(input())\n",
        "matrix = create_matrix(n)\n",
        "print(matrix)\n"
      ]
    },
    {
      "attachments": {},
      "cell_type": "markdown",
      "metadata": {},
      "source": [
        "This code defines a function called `count_digits` that takes a matrix as input. The function initializes an empty dictionary called `digits`. Then, the function iterates over the range of values from 0 to 9 using a for loop and initializes each key of the digits dictionary to 0.\n",
        "\n",
        "The function then iterates over the rows and columns of the input matrix using nested for loops. It calculates the modulus of each element in the matrix by 10 and uses it as an index to increment the corresponding key value in the digits dictionary.\n",
        "\n",
        "Finally, the function returns the updated digits dictionary with the count of each digit found in the input matrix."
      ]
    },
    {
      "cell_type": "code",
      "execution_count": 27,
      "metadata": {
        "id": "Cnocq2_56mdx"
      },
      "outputs": [],
      "source": [
        "def count_digits(matrix):\n",
        "  digits = {}\n",
        "  for i in range(10):\n",
        "    digits[i] = 0\n",
        "  for i in range(len(matrix)):\n",
        "    for j in range(len(matrix[0])):\n",
        "          digits[matrix[i][j] % 10] += 1\n",
        "  \n",
        "  return digits\n"
      ]
    },
    {
      "cell_type": "code",
      "execution_count": 28,
      "metadata": {
        "id": "Aq3mHGcc7f2i"
      },
      "outputs": [
        {
          "name": "stdout",
          "output_type": "stream",
          "text": [
            "{0: 2, 1: 5, 2: 3, 3: 1, 4: 3, 5: 2, 6: 0, 7: 3, 8: 3, 9: 3}\n"
          ]
        }
      ],
      "source": [
        "\"\"\"\n",
        "In this cell call the implemented function and print the result\n",
        "\"\"\"\n",
        "digits = count_digits(matrix)\n",
        "print(digits)"
      ]
    },
    {
      "attachments": {},
      "cell_type": "markdown",
      "metadata": {
        "id": "ALqhYliZ8Ie8"
      },
      "source": [
        "## Part B\n",
        "\n",
        "This code defines two functions, `traverse_diameter` and `traverse_matrix`.\n",
        "\n",
        "The `traverse_diameter` function takes in a `matrix`, `i`, and `j` as inputs. This function checks if `i` is equal to 0 or `j` is equal to `n-1` (where `n` is the number of rows/columns in the matrix). If this condition is true, it traverses the diagonal starting from the current `i` and `j` position in a downwards-leftwards direction until either `i` is equal to `n` or `j` is equal to -1. If the condition is false, it traverses the diagonal starting from the current `i` and `j` position in an upwards-rightwards direction until either `j` is equal to `n` or `i` is equal to -1. The function then returns a list of the updated `i` and `j` values.\n",
        "\n",
        "The `traverse_matrix` function takes in a `matrix` as input. It initializes `i` and `j` to 0, and prints the element in the top-left corner of the matrix. The function then enters a while loop that continues until `i` is equal to `n-1` and `j` is equal to `n-1`, which represents the bottom-right corner of the matrix. The function checks if `i` is equal to 0 or `i` is equal to `n-1`. If this condition is true, it updates `j` to `j+1`, and if `j` is equal to `n`, it updates `j` to `j-1` and `i` to `i+1`. If the condition is false, it updates `i` to `i+1`, and if `i` is equal to `n`, it updates `i` to `i-1` and `j` to `j+1`. The function then calls the traverse_diameter function with the updated `i` and `j` values and repeats the process until the bottom-right corner is reached.\n",
        "\n",
        "Overall, the `traverse_matrix` function traverses the matrix in a spiral-like pattern starting from the top-left corner and ending at the bottom-right corner, printing each element as it goes."
      ]
    },
    {
      "cell_type": "code",
      "execution_count": 29,
      "metadata": {
        "id": "bhTfjtO78LT1"
      },
      "outputs": [],
      "source": [
        "def traverse_diameter(matrix, i, j):\n",
        "  if i == 0 or j == n - 1:\n",
        "    while i < n and j >= 0:\n",
        "      print(matrix[i][j], end=\" \")\n",
        "      i += 1\n",
        "      j -= 1\n",
        "    i -= 1\n",
        "    j += 1\n",
        "  else:\n",
        "    while i >= 0 and j < n:\n",
        "      print(matrix[i][j], end=\" \")\n",
        "      i -= 1\n",
        "      j += 1\n",
        "    i += 1\n",
        "    j -= 1\n",
        "    \n",
        "  return [i, j]\n",
        "\n",
        "def traverse_matrix(matrix):\n",
        "  i = 0\n",
        "  j = 0\n",
        "  print(matrix[i][j], end=\" \")\n",
        "  while i!=n-1 or j!=n-1:\n",
        "    if i == 0 or i == n-1:\n",
        "      j += 1\n",
        "      if j == n:\n",
        "        j -= 1\n",
        "        i += 1\n",
        "    else:\n",
        "      i += 1\n",
        "      if i == n:\n",
        "        i -= 1\n",
        "        j += 1\n",
        "    [i, j] = traverse_diameter(matrix, i, j)\n",
        "  "
      ]
    },
    {
      "cell_type": "code",
      "execution_count": 30,
      "metadata": {
        "id": "9Imf-wvd8oKL"
      },
      "outputs": [
        {
          "name": "stdout",
          "output_type": "stream",
          "text": [
            "84 48 30 89 99 61 11 51 57 52 15 28 72 98 61 53 17 65 104 64 100 47 69 31 32 "
          ]
        }
      ],
      "source": [
        "traverse_matrix(matrix)"
      ]
    }
  ],
  "metadata": {
    "colab": {
      "provenance": []
    },
    "kernelspec": {
      "display_name": "Python 3",
      "language": "python",
      "name": "python3"
    },
    "language_info": {
      "codemirror_mode": {
        "name": "ipython",
        "version": 3
      },
      "file_extension": ".py",
      "mimetype": "text/x-python",
      "name": "python",
      "nbconvert_exporter": "python",
      "pygments_lexer": "ipython3",
      "version": "3.10.6"
    },
    "vscode": {
      "interpreter": {
        "hash": "916dbcbb3f70747c44a77c7bcd40155683ae19c65e1c03b4aa3499c5328201f1"
      }
    }
  },
  "nbformat": 4,
  "nbformat_minor": 0
}
