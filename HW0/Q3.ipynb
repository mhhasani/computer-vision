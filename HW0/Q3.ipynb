{
  "cells": [
    {
      "attachments": {},
      "cell_type": "markdown",
      "metadata": {
        "id": "P9PoDHBl3QKv"
      },
      "source": [
        "# Q3\n",
        "*Work with Numpy*<br>\n",
        "In this notebook you're going to work with the numpy library to solve the problems<br>\n",
        "Please follow the instructions and hints provided for each cell"
      ]
    },
    {
      "attachments": {},
      "cell_type": "markdown",
      "metadata": {},
      "source": [
        "## Part A"
      ]
    },
    {
      "cell_type": "code",
      "execution_count": 16,
      "metadata": {
        "id": "1ZbZ5H1j5Zhw"
      },
      "outputs": [],
      "source": [
        "import numpy as np"
      ]
    },
    {
      "cell_type": "code",
      "execution_count": 17,
      "metadata": {
        "id": "5nvuXUyB2aLJ"
      },
      "outputs": [],
      "source": [
        "def create_matrix(n):\n",
        "  matrix = np.random.randint(n, n+100, size=(n,n))\n",
        "  return matrix"
      ]
    },
    {
      "cell_type": "code",
      "execution_count": 18,
      "metadata": {
        "id": "1PiKjLsl6KhD"
      },
      "outputs": [
        {
          "name": "stdout",
          "output_type": "stream",
          "text": [
            "[[ 68  80  77  90  16]\n",
            " [ 72  74  37  51 103]\n",
            " [ 12  17  95  29  37]\n",
            " [ 72  84  87  66  76]\n",
            " [ 45  18 104  95  84]]\n"
          ]
        }
      ],
      "source": [
        "\"\"\"\n",
        "In this cell you should get the input n and create the matrix by calling the function\n",
        "Then print the matrix\n",
        "\"\"\"\n",
        "n = int(input())\n",
        "matrix = create_matrix(n)\n",
        "print(matrix)\n"
      ]
    },
    {
      "cell_type": "code",
      "execution_count": 19,
      "metadata": {
        "id": "Cnocq2_56mdx"
      },
      "outputs": [],
      "source": [
        "def count_digits(matrix):\n",
        "  digits = {}\n",
        "  for i in range(10):\n",
        "    digits[i] = 0\n",
        "  for i in range(len(matrix)):\n",
        "    for j in range(len(matrix[0])):\n",
        "          digits[matrix[i][j] % 10] += 1\n",
        "  \n",
        "  return digits\n"
      ]
    },
    {
      "cell_type": "code",
      "execution_count": 20,
      "metadata": {
        "id": "Aq3mHGcc7f2i"
      },
      "outputs": [
        {
          "name": "stdout",
          "output_type": "stream",
          "text": [
            "{0: 2, 1: 1, 2: 3, 3: 1, 4: 4, 5: 3, 6: 3, 7: 5, 8: 2, 9: 1}\n"
          ]
        }
      ],
      "source": [
        "\"\"\"\n",
        "In this cell call the implemented function and print the result\n",
        "\"\"\"\n",
        "digits = count_digits(matrix)\n",
        "print(digits)"
      ]
    },
    {
      "attachments": {},
      "cell_type": "markdown",
      "metadata": {
        "id": "ALqhYliZ8Ie8"
      },
      "source": [
        "## Part B"
      ]
    },
    {
      "cell_type": "code",
      "execution_count": 21,
      "metadata": {
        "id": "bhTfjtO78LT1"
      },
      "outputs": [],
      "source": [
        "def traverse_diameter(matrix, i, j):\n",
        "  if i == 0 or j == n - 1:\n",
        "    while i < n and j >= 0:\n",
        "      print(matrix[i][j], end=\" \")\n",
        "      i += 1\n",
        "      j -= 1\n",
        "    i -= 1\n",
        "    j += 1\n",
        "  else:\n",
        "    while i >= 0 and j < n:\n",
        "      print(matrix[i][j], end=\" \")\n",
        "      i -= 1\n",
        "      j += 1\n",
        "    i += 1\n",
        "    j -= 1\n",
        "    \n",
        "  return [i, j]\n",
        "\n",
        "def traverse_matrix(matrix):\n",
        "  i = 0\n",
        "  j = 0\n",
        "  print(matrix[i][j], end=\" \")\n",
        "  while i!=n-1 or j!=n-1:\n",
        "    if i == 0 or i == n-1:\n",
        "      j += 1\n",
        "      if j == n:\n",
        "        j -= 1\n",
        "        i += 1\n",
        "    else:\n",
        "      i += 1\n",
        "      if i == n:\n",
        "        i -= 1\n",
        "        j += 1\n",
        "    [i, j] = traverse_diameter(matrix, i, j)\n",
        "  "
      ]
    },
    {
      "cell_type": "code",
      "execution_count": 22,
      "metadata": {
        "id": "9Imf-wvd8oKL"
      },
      "outputs": [
        {
          "name": "stdout",
          "output_type": "stream",
          "text": [
            "[[ 68  80  77  90  16]\n",
            " [ 72  74  37  51 103]\n",
            " [ 12  17  95  29  37]\n",
            " [ 72  84  87  66  76]\n",
            " [ 45  18 104  95  84]]\n",
            "68 80 72 12 74 77 90 37 17 72 45 84 95 51 16 103 29 87 18 104 66 37 76 95 84 "
          ]
        }
      ],
      "source": [
        "traverse_matrix(matrix)"
      ]
    }
  ],
  "metadata": {
    "colab": {
      "provenance": []
    },
    "kernelspec": {
      "display_name": "Python 3",
      "language": "python",
      "name": "python3"
    },
    "language_info": {
      "codemirror_mode": {
        "name": "ipython",
        "version": 3
      },
      "file_extension": ".py",
      "mimetype": "text/x-python",
      "name": "python",
      "nbconvert_exporter": "python",
      "pygments_lexer": "ipython3",
      "version": "3.10.6"
    },
    "vscode": {
      "interpreter": {
        "hash": "916dbcbb3f70747c44a77c7bcd40155683ae19c65e1c03b4aa3499c5328201f1"
      }
    }
  },
  "nbformat": 4,
  "nbformat_minor": 0
}
