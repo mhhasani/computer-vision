{
  "nbformat": 4,
  "nbformat_minor": 0,
  "metadata": {
    "colab": {
      "provenance": []
    },
    "kernelspec": {
      "name": "python3",
      "display_name": "Python 3"
    },
    "language_info": {
      "name": "python"
    }
  },
  "cells": [
    {
      "cell_type": "code",
      "source": [
        "import numpy as np\n",
        "from skimage import feature"
      ],
      "metadata": {
        "id": "JQxbQ-kgErjw"
      },
      "execution_count": 4,
      "outputs": []
    },
    {
      "cell_type": "code",
      "source": [
        "image = np.array([\n",
        "    [10, 10, 10, 250, 250, 250],\n",
        "    [10, 10, 10, 250, 250, 250],\n",
        "    [10, 10, 10, 250, 250, 250],\n",
        "    [10, 10, 10, 250, 250, 250],\n",
        "    [10, 10, 10, 250, 250, 250]\n",
        "])"
      ],
      "metadata": {
        "id": "RAc9nXwvGTI-"
      },
      "execution_count": 5,
      "outputs": []
    },
    {
      "cell_type": "code",
      "execution_count": 6,
      "metadata": {
        "colab": {
          "base_uri": "https://localhost:8080/"
        },
        "id": "ZPiuTz-_Eq13",
        "outputId": "d1a6bf30-4998-42b3-e555-5cc5ae646383"
      },
      "outputs": [
        {
          "output_type": "stream",
          "name": "stdout",
          "text": [
            "[[3. 5. 6. 3. 5. 3.]\n",
            " [5. 8. 8. 5. 8. 5.]\n",
            " [5. 8. 8. 5. 8. 5.]\n",
            " [5. 8. 8. 5. 8. 5.]\n",
            " [3. 5. 6. 3. 5. 3.]]\n"
          ]
        }
      ],
      "source": [
        "image_gray = np.uint8(image) # convert image to grayscale\n",
        "\n",
        "lbp = feature.local_binary_pattern(image_gray, 8, 1, method='uniform') # calculate Uniform Rotation Invariant LBP with neighborhood size 8 and radius 1\n",
        "\n",
        "print(lbp)"
      ]
    }
  ]
}